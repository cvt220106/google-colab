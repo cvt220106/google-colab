{
  "nbformat": 4,
  "nbformat_minor": 0,
  "metadata": {
    "kernelspec": {
      "display_name": "Python 3",
      "language": "python",
      "name": "python3"
    },
    "language_info": {
      "codemirror_mode": {
        "name": "ipython",
        "version": 3
      },
      "file_extension": ".py",
      "mimetype": "text/x-python",
      "name": "python",
      "nbconvert_exporter": "python",
      "pygments_lexer": "ipython3",
      "version": "3.6.9"
    },
    "colab": {
      "name": "tf6_cifar10_model_1 (2).ipynb",
      "provenance": [],
      "collapsed_sections": [],
      "include_colab_link": true
    },
    "accelerator": "GPU",
    "gpuClass": "standard"
  },
  "cells": [
    {
      "cell_type": "markdown",
      "metadata": {
        "id": "view-in-github",
        "colab_type": "text"
      },
      "source": [
        "<a href=\"https://colab.research.google.com/github/cvt220106/google-colab/blob/main/tf6_cifar10_model_1_(2).ipynb\" target=\"_parent\"><img src=\"https://colab.research.google.com/assets/colab-badge.svg\" alt=\"Open In Colab\"/></a>"
      ]
    },
    {
      "cell_type": "code",
      "metadata": {
        "_cell_guid": "79c7e3d0-c299-4dcb-8224-4455121ee9b0",
        "_uuid": "d629ff2d2480ee46fbb7e2d37f6b5fab8052498a",
        "colab": {
          "base_uri": "https://localhost:8080/"
        },
        "id": "gcTSfiR4cQYK",
        "outputId": "a1d54d1f-f456-4b2f-baad-c6d8181c0351"
      },
      "source": [
        "%matplotlib inline\n",
        "import matplotlib as mpl\n",
        "import matplotlib.pyplot as plt\n",
        "import numpy as np\n",
        "import os\n",
        "import pandas as pd\n",
        "import sklearn\n",
        "import sys\n",
        "import tensorflow as tf\n",
        "import time\n",
        "\n",
        "from tensorflow import keras\n",
        "\n",
        "print(tf.__version__)\n",
        "print(sys.version_info)\n",
        "for module in mpl, np, pd, sklearn, tf, keras:\n",
        "    print(module.__name__, module.__version__)"
      ],
      "execution_count": 1,
      "outputs": [
        {
          "output_type": "stream",
          "name": "stdout",
          "text": [
            "2.8.2\n",
            "sys.version_info(major=3, minor=7, micro=13, releaselevel='final', serial=0)\n",
            "matplotlib 3.2.2\n",
            "numpy 1.21.6\n",
            "pandas 1.3.5\n",
            "sklearn 1.0.2\n",
            "tensorflow 2.8.2\n",
            "keras.api._v2.keras 2.8.0\n"
          ]
        }
      ]
    },
    {
      "cell_type": "code",
      "metadata": {
        "id": "08K-sUWP2Z0k"
      },
      "source": [
        ""
      ],
      "execution_count": 1,
      "outputs": []
    },
    {
      "cell_type": "code",
      "metadata": {
        "id": "bO5VT_YYEume",
        "colab": {
          "base_uri": "https://localhost:8080/"
        },
        "outputId": "72c071e1-d25b-45e9-a2a8-1b149e5d365e"
      },
      "source": [
        "!nvidia-smi"
      ],
      "execution_count": 2,
      "outputs": [
        {
          "output_type": "stream",
          "name": "stdout",
          "text": [
            "Wed Jul 27 03:02:18 2022       \n",
            "+-----------------------------------------------------------------------------+\n",
            "| NVIDIA-SMI 460.32.03    Driver Version: 460.32.03    CUDA Version: 11.2     |\n",
            "|-------------------------------+----------------------+----------------------+\n",
            "| GPU  Name        Persistence-M| Bus-Id        Disp.A | Volatile Uncorr. ECC |\n",
            "| Fan  Temp  Perf  Pwr:Usage/Cap|         Memory-Usage | GPU-Util  Compute M. |\n",
            "|                               |                      |               MIG M. |\n",
            "|===============================+======================+======================|\n",
            "|   0  Tesla T4            Off  | 00000000:00:04.0 Off |                    0 |\n",
            "| N/A   66C    P8    10W /  70W |      0MiB / 15109MiB |      0%      Default |\n",
            "|                               |                      |                  N/A |\n",
            "+-------------------------------+----------------------+----------------------+\n",
            "                                                                               \n",
            "+-----------------------------------------------------------------------------+\n",
            "| Processes:                                                                  |\n",
            "|  GPU   GI   CI        PID   Type   Process name                  GPU Memory |\n",
            "|        ID   ID                                                   Usage      |\n",
            "|=============================================================================|\n",
            "|  No running processes found                                                 |\n",
            "+-----------------------------------------------------------------------------+\n"
          ]
        }
      ]
    },
    {
      "cell_type": "code",
      "metadata": {
        "colab": {
          "base_uri": "https://localhost:8080/"
        },
        "id": "4NOao51JYfzi",
        "outputId": "125f79f3-acae-4b03-862b-bcfae3163041"
      },
      "source": [
        "!pip install kaggle"
      ],
      "execution_count": 3,
      "outputs": [
        {
          "output_type": "stream",
          "name": "stdout",
          "text": [
            "Looking in indexes: https://pypi.org/simple, https://us-python.pkg.dev/colab-wheels/public/simple/\n",
            "Requirement already satisfied: kaggle in /usr/local/lib/python3.7/dist-packages (1.5.12)\n",
            "Requirement already satisfied: certifi in /usr/local/lib/python3.7/dist-packages (from kaggle) (2022.6.15)\n",
            "Requirement already satisfied: python-dateutil in /usr/local/lib/python3.7/dist-packages (from kaggle) (2.8.2)\n",
            "Requirement already satisfied: python-slugify in /usr/local/lib/python3.7/dist-packages (from kaggle) (6.1.2)\n",
            "Requirement already satisfied: urllib3 in /usr/local/lib/python3.7/dist-packages (from kaggle) (1.24.3)\n",
            "Requirement already satisfied: six>=1.10 in /usr/local/lib/python3.7/dist-packages (from kaggle) (1.15.0)\n",
            "Requirement already satisfied: requests in /usr/local/lib/python3.7/dist-packages (from kaggle) (2.23.0)\n",
            "Requirement already satisfied: tqdm in /usr/local/lib/python3.7/dist-packages (from kaggle) (4.64.0)\n",
            "Requirement already satisfied: text-unidecode>=1.3 in /usr/local/lib/python3.7/dist-packages (from python-slugify->kaggle) (1.3)\n",
            "Requirement already satisfied: idna<3,>=2.5 in /usr/local/lib/python3.7/dist-packages (from requests->kaggle) (2.10)\n",
            "Requirement already satisfied: chardet<4,>=3.0.2 in /usr/local/lib/python3.7/dist-packages (from requests->kaggle) (3.0.4)\n"
          ]
        }
      ]
    },
    {
      "cell_type": "code",
      "metadata": {
        "id": "Fi46_oyAY6qD"
      },
      "source": [
        "import json\n",
        "token = {\"username\":\"jackyyoung\",\"key\":\"8b0d8fc1f1c33da831ade74e571a01c7\"}\n",
        "with open('/content/kaggle.json', 'w') as file:\n",
        "  json.dump(token, file)"
      ],
      "execution_count": 4,
      "outputs": []
    },
    {
      "cell_type": "code",
      "metadata": {
        "colab": {
          "base_uri": "https://localhost:8080/"
        },
        "id": "FBunE0OvY6ZY",
        "outputId": "6f5c3f18-e1e4-47a5-de71-8edb7ac6da56"
      },
      "source": [
        "!cat /content/kaggle.json"
      ],
      "execution_count": 5,
      "outputs": [
        {
          "output_type": "stream",
          "name": "stdout",
          "text": [
            "{\"username\": \"jackyyoung\", \"key\": \"8b0d8fc1f1c33da831ade74e571a01c7\"}"
          ]
        }
      ]
    },
    {
      "cell_type": "code",
      "metadata": {
        "colab": {
          "base_uri": "https://localhost:8080/"
        },
        "id": "qXgB8rdbZIDU",
        "outputId": "17d975ff-97e7-4a63-c905-d6530eab3559"
      },
      "source": [
        "!mkdir -p ~/.kaggle\n",
        "!cp /content/kaggle.json ~/.kaggle/\n",
        "!chmod 600 ~/.kaggle/kaggle.json\n",
        "!kaggle config set -n path -v /content"
      ],
      "execution_count": 6,
      "outputs": [
        {
          "output_type": "stream",
          "name": "stdout",
          "text": [
            "- path is now set to: /content\n"
          ]
        }
      ]
    },
    {
      "cell_type": "code",
      "metadata": {
        "colab": {
          "base_uri": "https://localhost:8080/"
        },
        "id": "Xtn4YxW2ZSI5",
        "outputId": "ea6d8d1a-2288-4e4d-f508-ce1a09517b2e"
      },
      "source": [
        "!pwd"
      ],
      "execution_count": 7,
      "outputs": [
        {
          "output_type": "stream",
          "name": "stdout",
          "text": [
            "/content\n"
          ]
        }
      ]
    },
    {
      "cell_type": "code",
      "metadata": {
        "id": "p0A-3wMTZTe2"
      },
      "source": [
        "# !kaggle datasets download -d slothkong/10-monkey-species"
      ],
      "execution_count": 8,
      "outputs": []
    },
    {
      "cell_type": "code",
      "metadata": {
        "colab": {
          "base_uri": "https://localhost:8080/"
        },
        "id": "JL8vRjqkZg3G",
        "outputId": "bf238bbd-1375-4233-f8c8-82c17370a7b6"
      },
      "source": [
        "!kaggle competitions download -c cifar-10"
      ],
      "execution_count": 9,
      "outputs": [
        {
          "output_type": "stream",
          "name": "stdout",
          "text": [
            "Downloading cifar-10.zip to /content/competitions/cifar-10\n",
            "100% 713M/715M [00:19<00:00, 47.9MB/s]\n",
            "100% 715M/715M [00:19<00:00, 37.6MB/s]\n"
          ]
        }
      ]
    },
    {
      "cell_type": "markdown",
      "source": [
        "# 新段落"
      ],
      "metadata": {
        "id": "RDrGNb8RaqCz"
      }
    },
    {
      "cell_type": "code",
      "metadata": {
        "colab": {
          "base_uri": "https://localhost:8080/"
        },
        "id": "EZkDbHbEaC7x",
        "outputId": "ed566860-0ada-4040-96f7-e8b399f6b60c"
      },
      "source": [
        "!ls /content/competitions/cifar-10"
      ],
      "execution_count": 10,
      "outputs": [
        {
          "output_type": "stream",
          "name": "stdout",
          "text": [
            "cifar-10.zip\n"
          ]
        }
      ]
    },
    {
      "cell_type": "code",
      "source": [
        "!unzip /content/competitions/cifar-10/cifar-10.zip"
      ],
      "metadata": {
        "colab": {
          "base_uri": "https://localhost:8080/"
        },
        "id": "psY5LhQee3Ir",
        "outputId": "4c530415-afd2-46bb-f2e1-7990b3b1ac0b"
      },
      "execution_count": 11,
      "outputs": [
        {
          "output_type": "stream",
          "name": "stdout",
          "text": [
            "Archive:  /content/competitions/cifar-10/cifar-10.zip\n",
            "  inflating: sampleSubmission.csv    \n",
            "  inflating: test.7z                 \n",
            "  inflating: train.7z                \n",
            "  inflating: trainLabels.csv         \n"
          ]
        }
      ]
    },
    {
      "cell_type": "code",
      "source": [
        "!ls /content/"
      ],
      "metadata": {
        "colab": {
          "base_uri": "https://localhost:8080/"
        },
        "id": "bDHJECaAfEAE",
        "outputId": "79a1e7d6-602e-4724-8387-3b80681bf8d5"
      },
      "execution_count": 12,
      "outputs": [
        {
          "output_type": "stream",
          "name": "stdout",
          "text": [
            "competitions  sample_data\t    test.7z   trainLabels.csv\n",
            "kaggle.json   sampleSubmission.csv  train.7z\n"
          ]
        }
      ]
    },
    {
      "cell_type": "code",
      "metadata": {
        "colab": {
          "base_uri": "https://localhost:8080/"
        },
        "id": "gIcDMwAcaktp",
        "outputId": "4b535841-4e2b-422a-b121-5efdd3c4dcfc"
      },
      "source": [
        "%pip install py7zr\n",
        "import py7zr\n",
        "a =py7zr.SevenZipFile(r'./train.7z','r')\n",
        "a.extractall(path=r'./competitions/cifar-10/')\n",
        "a.close()"
      ],
      "execution_count": 13,
      "outputs": [
        {
          "output_type": "stream",
          "name": "stdout",
          "text": [
            "Looking in indexes: https://pypi.org/simple, https://us-python.pkg.dev/colab-wheels/public/simple/\n",
            "Collecting py7zr\n",
            "  Downloading py7zr-0.19.0-py3-none-any.whl (65 kB)\n",
            "\u001b[K     |████████████████████████████████| 65 kB 3.7 MB/s \n",
            "\u001b[?25hCollecting inflate64>=0.1.2\n",
            "  Downloading inflate64-0.1.4-cp37-cp37m-manylinux_2_17_x86_64.manylinux2014_x86_64.whl (94 kB)\n",
            "\u001b[K     |████████████████████████████████| 94 kB 3.5 MB/s \n",
            "\u001b[?25hCollecting multivolumefile>=0.2.3\n",
            "  Downloading multivolumefile-0.2.3-py3-none-any.whl (17 kB)\n",
            "Collecting brotli>=1.0.9\n",
            "  Downloading Brotli-1.0.9-cp37-cp37m-manylinux1_x86_64.whl (357 kB)\n",
            "\u001b[K     |████████████████████████████████| 357 kB 70.0 MB/s \n",
            "\u001b[?25hCollecting pyppmd<0.19.0,>=0.18.1\n",
            "  Downloading pyppmd-0.18.3-cp37-cp37m-manylinux_2_17_x86_64.manylinux2014_x86_64.whl (138 kB)\n",
            "\u001b[K     |████████████████████████████████| 138 kB 71.4 MB/s \n",
            "\u001b[?25hCollecting texttable\n",
            "  Downloading texttable-1.6.4-py2.py3-none-any.whl (10 kB)\n",
            "Collecting pyzstd>=0.14.4\n",
            "  Downloading pyzstd-0.15.2-cp37-cp37m-manylinux_2_17_x86_64.manylinux2014_x86_64.whl (2.4 MB)\n",
            "\u001b[K     |████████████████████████████████| 2.4 MB 59.0 MB/s \n",
            "\u001b[?25hCollecting pybcj>=0.6.0\n",
            "  Downloading pybcj-0.6.1-cp37-cp37m-manylinux_2_17_x86_64.manylinux2014_x86_64.whl (50 kB)\n",
            "\u001b[K     |████████████████████████████████| 50 kB 6.6 MB/s \n",
            "\u001b[?25hCollecting pycryptodomex>=3.6.6\n",
            "  Downloading pycryptodomex-3.15.0-cp35-abi3-manylinux2010_x86_64.whl (2.3 MB)\n",
            "\u001b[K     |████████████████████████████████| 2.3 MB 53.0 MB/s \n",
            "\u001b[?25hRequirement already satisfied: importlib-metadata in /usr/local/lib/python3.7/dist-packages (from py7zr) (4.12.0)\n",
            "Requirement already satisfied: psutil in /usr/local/lib/python3.7/dist-packages (from py7zr) (5.4.8)\n",
            "Requirement already satisfied: typing-extensions>=3.6.4 in /usr/local/lib/python3.7/dist-packages (from importlib-metadata->py7zr) (4.1.1)\n",
            "Requirement already satisfied: zipp>=0.5 in /usr/local/lib/python3.7/dist-packages (from importlib-metadata->py7zr) (3.8.1)\n",
            "Installing collected packages: texttable, pyzstd, pyppmd, pycryptodomex, pybcj, multivolumefile, inflate64, brotli, py7zr\n",
            "Successfully installed brotli-1.0.9 inflate64-0.1.4 multivolumefile-0.2.3 py7zr-0.19.0 pybcj-0.6.1 pycryptodomex-3.15.0 pyppmd-0.18.3 pyzstd-0.15.2 texttable-1.6.4\n"
          ]
        }
      ]
    },
    {
      "cell_type": "code",
      "metadata": {
        "colab": {
          "base_uri": "https://localhost:8080/"
        },
        "id": "jxHEojoXcEGX",
        "outputId": "1fac19fc-5d5d-44a1-af70-0d04bc9dac90"
      },
      "source": [
        "!ls /content/competitions/cifar-10/train|wc -l"
      ],
      "execution_count": 14,
      "outputs": [
        {
          "output_type": "stream",
          "name": "stdout",
          "text": [
            "50000\n"
          ]
        }
      ]
    },
    {
      "cell_type": "code",
      "metadata": {
        "id": "sYrWDOmEcWfW"
      },
      "source": [
        "#测试集\n",
        "a =py7zr.SevenZipFile(r'./test.7z','r')\n",
        "a.extractall(path=r'./competitions/cifar-10/')\n",
        "a.close()"
      ],
      "execution_count": 15,
      "outputs": []
    },
    {
      "cell_type": "code",
      "metadata": {
        "colab": {
          "base_uri": "https://localhost:8080/"
        },
        "id": "o6OPszZggi_R",
        "outputId": "620c041e-cd17-400b-fe37-13439e2d0c0b"
      },
      "source": [
        "!ls /content/competitions/cifar-10/test|wc -l"
      ],
      "execution_count": 16,
      "outputs": [
        {
          "output_type": "stream",
          "name": "stdout",
          "text": [
            "300000\n"
          ]
        }
      ]
    },
    {
      "cell_type": "code",
      "metadata": {
        "colab": {
          "base_uri": "https://localhost:8080/"
        },
        "id": "f0BwBptMgs5g",
        "outputId": "84fcb726-d67a-43c1-b8a4-a31be7c9b693"
      },
      "source": [
        "!unzip -o -d /content/competitions/cifar-10 ./sampleSubmission.csv.zip"
      ],
      "execution_count": 17,
      "outputs": [
        {
          "output_type": "stream",
          "name": "stdout",
          "text": [
            "unzip:  cannot find or open ./competitions/cifar-10/sampleSubmission.csv.zip, ./competitions/cifar-10/sampleSubmission.csv.zip.zip or ./competitions/cifar-10/sampleSubmission.csv.zip.ZIP.\n"
          ]
        }
      ]
    },
    {
      "cell_type": "code",
      "metadata": {
        "id": "RtO1NobRcQYS",
        "colab": {
          "base_uri": "https://localhost:8080/"
        },
        "outputId": "00c11f9d-9f57-4c89-9ab9-ebd0fb595619"
      },
      "source": [
        "#所有的类别\n",
        "class_names = [\n",
        "    'airplane',\n",
        "    'automobile',\n",
        "    'bird',\n",
        "    'cat',\n",
        "    'deer',\n",
        "    'dog',\n",
        "    'frog',\n",
        "    'horse',\n",
        "    'ship',\n",
        "    'truck',\n",
        "]\n",
        "\n",
        "train_lables_file = './trainLabels.csv'\n",
        "test_csv_file = './sampleSubmission.csv'\n",
        "train_folder = 'competitions/cifar-10/train/'\n",
        "test_folder = 'competitions/cifar-10/test'\n",
        "\n",
        "def parse_csv_file(filepath, folder):\n",
        "    \"\"\"Parses csv files into (filename(path), label) format\"\"\"\n",
        "    results = []\n",
        "    #读取所有行\n",
        "    with open(filepath, 'r') as f:\n",
        "#         lines = f.readlines()  为什么加[1:]，可以试这个\n",
        "        lines = f.readlines()[1:]\n",
        "    for line in lines:\n",
        "        image_id, label_str = line.strip('\\n').split(',')\n",
        "        image_full_path = os.path.join(folder, image_id + '.png')\n",
        "        results.append((image_full_path, label_str))\n",
        "    return results\n",
        "\n",
        "#解析对应的文件夹\n",
        "train_labels_info = parse_csv_file(train_lables_file, train_folder)\n",
        "test_csv_info = parse_csv_file(test_csv_file, test_folder)\n",
        "#打印\n",
        "import pprint\n",
        "pprint.pprint(train_labels_info[0:5])\n",
        "pprint.pprint(test_csv_info[0:5])\n",
        "print(len(train_labels_info), len(test_csv_info))"
      ],
      "execution_count": 19,
      "outputs": [
        {
          "output_type": "stream",
          "name": "stdout",
          "text": [
            "[('competitions/cifar-10/train/1.png', 'frog'),\n",
            " ('competitions/cifar-10/train/2.png', 'truck'),\n",
            " ('competitions/cifar-10/train/3.png', 'truck'),\n",
            " ('competitions/cifar-10/train/4.png', 'deer'),\n",
            " ('competitions/cifar-10/train/5.png', 'automobile')]\n",
            "[('competitions/cifar-10/test/1.png', 'cat'),\n",
            " ('competitions/cifar-10/test/2.png', 'cat'),\n",
            " ('competitions/cifar-10/test/3.png', 'cat'),\n",
            " ('competitions/cifar-10/test/4.png', 'cat'),\n",
            " ('competitions/cifar-10/test/5.png', 'cat')]\n",
            "50000 300000\n"
          ]
        }
      ]
    },
    {
      "cell_type": "code",
      "metadata": {
        "id": "QRMjHfbUcQYT",
        "colab": {
          "base_uri": "https://localhost:8080/"
        },
        "outputId": "88d42f43-d803-40d7-d0f4-d10a0adce935"
      },
      "source": [
        "# train_df = pd.DataFrame(train_labels_info)\n",
        "train_df = pd.DataFrame(train_labels_info[0:45000])\n",
        "valid_df = pd.DataFrame(train_labels_info[45000:])\n",
        "test_df = pd.DataFrame(test_csv_info)\n",
        "\n",
        "train_df.columns = ['filepath', 'class']\n",
        "valid_df.columns = ['filepath', 'class']\n",
        "test_df.columns = ['filepath', 'class']\n",
        "\n",
        "print(train_df.head())\n",
        "print(valid_df.head())\n",
        "print(test_df.head())"
      ],
      "execution_count": 20,
      "outputs": [
        {
          "output_type": "stream",
          "name": "stdout",
          "text": [
            "                            filepath       class\n",
            "0  competitions/cifar-10/train/1.png        frog\n",
            "1  competitions/cifar-10/train/2.png       truck\n",
            "2  competitions/cifar-10/train/3.png       truck\n",
            "3  competitions/cifar-10/train/4.png        deer\n",
            "4  competitions/cifar-10/train/5.png  automobile\n",
            "                                filepath       class\n",
            "0  competitions/cifar-10/train/45001.png       horse\n",
            "1  competitions/cifar-10/train/45002.png  automobile\n",
            "2  competitions/cifar-10/train/45003.png        deer\n",
            "3  competitions/cifar-10/train/45004.png  automobile\n",
            "4  competitions/cifar-10/train/45005.png    airplane\n",
            "                           filepath class\n",
            "0  competitions/cifar-10/test/1.png   cat\n",
            "1  competitions/cifar-10/test/2.png   cat\n",
            "2  competitions/cifar-10/test/3.png   cat\n",
            "3  competitions/cifar-10/test/4.png   cat\n",
            "4  competitions/cifar-10/test/5.png   cat\n"
          ]
        }
      ]
    },
    {
      "cell_type": "code",
      "metadata": {
        "id": "RQZszrnZcQYU",
        "colab": {
          "base_uri": "https://localhost:8080/"
        },
        "outputId": "dfe17c45-58a0-479b-fe4a-cf7f25b84e41"
      },
      "source": [
        "height = 32\n",
        "width = 32\n",
        "channels = 3\n",
        "batch_size = 32\n",
        "num_classes = 10\n",
        "\n",
        "train_datagen = keras.preprocessing.image.ImageDataGenerator(\n",
        "    rescale = 1./255,\n",
        "    rotation_range = 40,\n",
        "    width_shift_range = 0.2,\n",
        "    height_shift_range = 0.2,\n",
        "    shear_range = 0.2,\n",
        "    zoom_range = 0.2,\n",
        "    horizontal_flip = True,\n",
        "    fill_mode = 'nearest',\n",
        ")\n",
        "train_generator = train_datagen.flow_from_dataframe(\n",
        "    train_df,\n",
        "    directory = './',\n",
        "    x_col = 'filepath',\n",
        "    y_col = 'class',\n",
        "    #讲labels转换为id\n",
        "    classes = class_names,\n",
        "    target_size = (height, width),\n",
        "    batch_size = batch_size,\n",
        "    seed = 7,\n",
        "    shuffle = True,\n",
        "    class_mode = 'sparse',\n",
        ")\n",
        "\n",
        "#和上面一致\n",
        "valid_datagen = keras.preprocessing.image.ImageDataGenerator(\n",
        "    rescale = 1./255)\n",
        "valid_generator = valid_datagen.flow_from_dataframe(\n",
        "    valid_df,\n",
        "    directory = './',\n",
        "    x_col = 'filepath',\n",
        "    y_col = 'class',\n",
        "    classes = class_names,\n",
        "    target_size = (height, width),\n",
        "    batch_size = batch_size,\n",
        "    seed = 7,\n",
        "    shuffle = False,\n",
        "    class_mode = \"sparse\")\n",
        "\n",
        "train_num = train_generator.samples\n",
        "valid_num = valid_generator.samples\n",
        "print(train_num, valid_num)"
      ],
      "execution_count": 21,
      "outputs": [
        {
          "output_type": "stream",
          "name": "stdout",
          "text": [
            "Found 45000 validated image filenames belonging to 10 classes.\n",
            "Found 5000 validated image filenames belonging to 10 classes.\n",
            "45000 5000\n"
          ]
        }
      ]
    },
    {
      "cell_type": "code",
      "metadata": {
        "id": "_IB_xO64cQYV",
        "colab": {
          "base_uri": "https://localhost:8080/"
        },
        "outputId": "9752a7e4-3e19-4ab6-c4dd-15433b301851"
      },
      "source": [
        "for i in range(2):\n",
        "    x, y = train_generator.next()\n",
        "    print(x.shape, y.shape)\n",
        "    print(y)"
      ],
      "execution_count": 22,
      "outputs": [
        {
          "output_type": "stream",
          "name": "stdout",
          "text": [
            "(32, 32, 32, 3) (32,)\n",
            "[2. 1. 4. 4. 4. 4. 6. 5. 2. 8. 4. 6. 6. 3. 7. 1. 7. 2. 8. 8. 3. 0. 5. 3.\n",
            " 9. 1. 4. 5. 6. 7. 9. 2.]\n",
            "(32, 32, 32, 3) (32,)\n",
            "[0. 7. 2. 7. 5. 5. 7. 0. 5. 4. 9. 7. 6. 3. 0. 4. 4. 4. 6. 3. 5. 4. 6. 6.\n",
            " 4. 1. 8. 2. 4. 4. 3. 0.]\n"
          ]
        }
      ]
    },
    {
      "cell_type": "code",
      "metadata": {
        "id": "Cqqwrl9ycQYV",
        "colab": {
          "base_uri": "https://localhost:8080/"
        },
        "outputId": "71342a4a-ddef-4d3a-a31d-ca6284583087"
      },
      "source": [
        "model = keras.models.Sequential([\n",
        "    keras.layers.Conv2D(filters=128, kernel_size=3, padding='same',\n",
        "                        activation='selu', \n",
        "                        input_shape=[width, height, channels]),\n",
        "    keras.layers.BatchNormalization(),#为了是模型训练的更快\n",
        "    keras.layers.Conv2D(filters=128, kernel_size=3, padding='same',\n",
        "                        activation='selu'),\n",
        "    keras.layers.BatchNormalization(),\n",
        "    keras.layers.MaxPool2D(pool_size=2),\n",
        "    \n",
        "    keras.layers.Conv2D(filters=256, kernel_size=3, padding='same',\n",
        "                        activation='selu'),\n",
        "    keras.layers.BatchNormalization(),\n",
        "    keras.layers.Conv2D(filters=256, kernel_size=3, padding='same',\n",
        "                        activation='selu'),\n",
        "    keras.layers.BatchNormalization(),\n",
        "    keras.layers.MaxPool2D(pool_size=2),\n",
        "    keras.layers.Conv2D(filters=512, kernel_size=3, padding='same',\n",
        "                        activation='selu'),\n",
        "    keras.layers.BatchNormalization(),\n",
        "    keras.layers.Conv2D(filters=512, kernel_size=3, padding='same',\n",
        "                        activation='selu'),\n",
        "    keras.layers.BatchNormalization(),\n",
        "    keras.layers.MaxPool2D(pool_size=2),\n",
        "    keras.layers.Flatten(),\n",
        "    keras.layers.Dense(512, activation='selu'),\n",
        "    keras.layers.Dense(num_classes, activation='softmax'),\n",
        "])\n",
        "\n",
        "model.compile(loss=\"sparse_categorical_crossentropy\",\n",
        "              optimizer=\"adam\", metrics=['accuracy'])\n",
        "model.summary()"
      ],
      "execution_count": 23,
      "outputs": [
        {
          "output_type": "stream",
          "name": "stdout",
          "text": [
            "Model: \"sequential\"\n",
            "_________________________________________________________________\n",
            " Layer (type)                Output Shape              Param #   \n",
            "=================================================================\n",
            " conv2d (Conv2D)             (None, 32, 32, 128)       3584      \n",
            "                                                                 \n",
            " batch_normalization (BatchN  (None, 32, 32, 128)      512       \n",
            " ormalization)                                                   \n",
            "                                                                 \n",
            " conv2d_1 (Conv2D)           (None, 32, 32, 128)       147584    \n",
            "                                                                 \n",
            " batch_normalization_1 (Batc  (None, 32, 32, 128)      512       \n",
            " hNormalization)                                                 \n",
            "                                                                 \n",
            " max_pooling2d (MaxPooling2D  (None, 16, 16, 128)      0         \n",
            " )                                                               \n",
            "                                                                 \n",
            " conv2d_2 (Conv2D)           (None, 16, 16, 256)       295168    \n",
            "                                                                 \n",
            " batch_normalization_2 (Batc  (None, 16, 16, 256)      1024      \n",
            " hNormalization)                                                 \n",
            "                                                                 \n",
            " conv2d_3 (Conv2D)           (None, 16, 16, 256)       590080    \n",
            "                                                                 \n",
            " batch_normalization_3 (Batc  (None, 16, 16, 256)      1024      \n",
            " hNormalization)                                                 \n",
            "                                                                 \n",
            " max_pooling2d_1 (MaxPooling  (None, 8, 8, 256)        0         \n",
            " 2D)                                                             \n",
            "                                                                 \n",
            " conv2d_4 (Conv2D)           (None, 8, 8, 512)         1180160   \n",
            "                                                                 \n",
            " batch_normalization_4 (Batc  (None, 8, 8, 512)        2048      \n",
            " hNormalization)                                                 \n",
            "                                                                 \n",
            " conv2d_5 (Conv2D)           (None, 8, 8, 512)         2359808   \n",
            "                                                                 \n",
            " batch_normalization_5 (Batc  (None, 8, 8, 512)        2048      \n",
            " hNormalization)                                                 \n",
            "                                                                 \n",
            " max_pooling2d_2 (MaxPooling  (None, 4, 4, 512)        0         \n",
            " 2D)                                                             \n",
            "                                                                 \n",
            " flatten (Flatten)           (None, 8192)              0         \n",
            "                                                                 \n",
            " dense (Dense)               (None, 512)               4194816   \n",
            "                                                                 \n",
            " dense_1 (Dense)             (None, 10)                5130      \n",
            "                                                                 \n",
            "=================================================================\n",
            "Total params: 8,783,498\n",
            "Trainable params: 8,779,914\n",
            "Non-trainable params: 3,584\n",
            "_________________________________________________________________\n"
          ]
        }
      ]
    },
    {
      "cell_type": "code",
      "metadata": {
        "id": "E2CMfhLEcQYW",
        "colab": {
          "base_uri": "https://localhost:8080/"
        },
        "outputId": "043f53fa-7500-4667-efd4-c32e10c5b2be"
      },
      "source": [
        "epochs = 100\n",
        "callbacks= [keras.callbacks.EarlyStopping(patience=5,min_delta=1e-3)]\n",
        "history = model.fit(train_generator,\n",
        "                              steps_per_epoch = train_num // batch_size,\n",
        "                              epochs = epochs,\n",
        "                              validation_data = valid_generator,\n",
        "                              validation_steps = valid_num // batch_size,\n",
        "                              callbacks=callbacks)                        "
      ],
      "execution_count": 29,
      "outputs": [
        {
          "output_type": "stream",
          "name": "stdout",
          "text": [
            "Epoch 1/100\n",
            "1406/1406 [==============================] - 50s 36ms/step - loss: 0.4214 - accuracy: 0.8566 - val_loss: 0.7232 - val_accuracy: 0.8009\n",
            "Epoch 2/100\n",
            "1406/1406 [==============================] - 50s 36ms/step - loss: 0.4121 - accuracy: 0.8605 - val_loss: 0.4550 - val_accuracy: 0.8650\n",
            "Epoch 3/100\n",
            "1406/1406 [==============================] - 49s 35ms/step - loss: 0.3956 - accuracy: 0.8637 - val_loss: 0.4312 - val_accuracy: 0.8656\n",
            "Epoch 4/100\n",
            "1406/1406 [==============================] - 50s 35ms/step - loss: 0.3873 - accuracy: 0.8681 - val_loss: 0.4619 - val_accuracy: 0.8620\n",
            "Epoch 5/100\n",
            "1406/1406 [==============================] - 50s 36ms/step - loss: 0.3797 - accuracy: 0.8697 - val_loss: 0.5105 - val_accuracy: 0.8518\n",
            "Epoch 6/100\n",
            "1406/1406 [==============================] - 50s 35ms/step - loss: 0.3748 - accuracy: 0.8732 - val_loss: 0.4965 - val_accuracy: 0.8562\n",
            "Epoch 7/100\n",
            "1406/1406 [==============================] - 50s 35ms/step - loss: 0.3585 - accuracy: 0.8781 - val_loss: 0.4916 - val_accuracy: 0.8608\n",
            "Epoch 8/100\n",
            "1406/1406 [==============================] - 50s 36ms/step - loss: 0.3531 - accuracy: 0.8783 - val_loss: 0.4122 - val_accuracy: 0.8732\n",
            "Epoch 9/100\n",
            "1406/1406 [==============================] - 49s 35ms/step - loss: 0.3464 - accuracy: 0.8823 - val_loss: 0.4523 - val_accuracy: 0.8682\n",
            "Epoch 10/100\n",
            "1406/1406 [==============================] - 49s 35ms/step - loss: 0.3398 - accuracy: 0.8848 - val_loss: 0.4590 - val_accuracy: 0.8676\n",
            "Epoch 11/100\n",
            "1406/1406 [==============================] - 50s 36ms/step - loss: 0.3319 - accuracy: 0.8860 - val_loss: 0.4721 - val_accuracy: 0.8640\n",
            "Epoch 12/100\n",
            "1406/1406 [==============================] - 49s 35ms/step - loss: 0.3267 - accuracy: 0.8884 - val_loss: 0.5224 - val_accuracy: 0.8510\n",
            "Epoch 13/100\n",
            "1406/1406 [==============================] - 51s 36ms/step - loss: 0.3216 - accuracy: 0.8906 - val_loss: 0.3855 - val_accuracy: 0.8832\n",
            "Epoch 14/100\n",
            "1406/1406 [==============================] - 49s 35ms/step - loss: 0.3057 - accuracy: 0.8941 - val_loss: 0.6248 - val_accuracy: 0.8279\n",
            "Epoch 15/100\n",
            "1406/1406 [==============================] - 52s 37ms/step - loss: 0.3072 - accuracy: 0.8950 - val_loss: 0.4788 - val_accuracy: 0.8708\n",
            "Epoch 16/100\n",
            "1406/1406 [==============================] - 49s 35ms/step - loss: 0.2980 - accuracy: 0.8988 - val_loss: 0.4027 - val_accuracy: 0.8824\n",
            "Epoch 17/100\n",
            "1406/1406 [==============================] - 49s 35ms/step - loss: 0.2885 - accuracy: 0.9009 - val_loss: 0.3651 - val_accuracy: 0.8920\n",
            "Epoch 18/100\n",
            "1406/1406 [==============================] - 50s 36ms/step - loss: 0.2943 - accuracy: 0.9006 - val_loss: 0.3661 - val_accuracy: 0.8932\n",
            "Epoch 19/100\n",
            "1406/1406 [==============================] - 49s 35ms/step - loss: 0.2841 - accuracy: 0.9024 - val_loss: 0.3642 - val_accuracy: 0.8936\n",
            "Epoch 20/100\n",
            "1406/1406 [==============================] - 50s 35ms/step - loss: 0.2765 - accuracy: 0.9034 - val_loss: 0.4487 - val_accuracy: 0.8734\n",
            "Epoch 21/100\n",
            "1406/1406 [==============================] - 50s 36ms/step - loss: 0.2681 - accuracy: 0.9086 - val_loss: 0.3955 - val_accuracy: 0.8832\n",
            "Epoch 22/100\n",
            "1406/1406 [==============================] - 48s 34ms/step - loss: 0.2716 - accuracy: 0.9071 - val_loss: 0.5545 - val_accuracy: 0.8544\n"
          ]
        }
      ]
    },
    {
      "cell_type": "code",
      "metadata": {
        "id": "mRzGnOEtcQYX",
        "colab": {
          "base_uri": "https://localhost:8080/",
          "height": 669
        },
        "outputId": "ad54149a-1651-4c61-8c84-5c67b229e659"
      },
      "source": [
        "print(history.history)\n",
        "def plot_learning_curves(history, label, epcohs, min_value, max_value):\n",
        "    data = {}\n",
        "    data[label] = history.history[label]\n",
        "    data['val_'+label] = history.history['val_'+label]\n",
        "    pd.DataFrame(data).plot(figsize=(8, 5))\n",
        "    plt.grid(True)\n",
        "    plt.axis([0, 25, min_value, max_value])\n",
        "    plt.show()\n",
        "    \n",
        "plot_learning_curves(history, 'accuracy', epochs, 0, 1)\n",
        "plot_learning_curves(history, 'loss', epochs, 0, 2)"
      ],
      "execution_count": 32,
      "outputs": [
        {
          "output_type": "stream",
          "name": "stdout",
          "text": [
            "{'loss': [0.421381413936615, 0.41205742955207825, 0.3955569863319397, 0.3872503340244293, 0.3797359764575958, 0.3747933506965637, 0.35850849747657776, 0.3531101644039154, 0.34636539220809937, 0.3397543132305145, 0.33185774087905884, 0.32674723863601685, 0.32155781984329224, 0.30572614073753357, 0.3071771264076233, 0.2979791760444641, 0.2885422706604004, 0.2942703366279602, 0.2840549051761627, 0.2765261232852936, 0.26813557744026184, 0.2716251313686371], 'accuracy': [0.8565869331359863, 0.8604785799980164, 0.863658607006073, 0.8681061863899231, 0.8696851134300232, 0.8731764554977417, 0.8780910968780518, 0.8782690167427063, 0.8822718262672424, 0.8847847580909729, 0.8860300779342651, 0.8883873224258423, 0.8906111121177673, 0.8940579891204834, 0.895014226436615, 0.8988169431686401, 0.9009295701980591, 0.90057373046875, 0.9023972749710083, 0.9033979773521423, 0.9085571765899658, 0.9070894718170166], 'val_loss': [0.7231941819190979, 0.45496734976768494, 0.43124717473983765, 0.46188321709632874, 0.510532021522522, 0.49650803208351135, 0.49158257246017456, 0.4121655821800232, 0.4522669315338135, 0.45898187160491943, 0.4720742702484131, 0.5223695039749146, 0.38547074794769287, 0.6247571110725403, 0.47876256704330444, 0.40273070335388184, 0.3651234209537506, 0.36608994007110596, 0.3641612231731415, 0.4487048387527466, 0.39554062485694885, 0.5545312166213989], 'val_accuracy': [0.8008813858032227, 0.8649839758872986, 0.8655849099159241, 0.8619791865348816, 0.8517628312110901, 0.8561698794364929, 0.8607772588729858, 0.8731971383094788, 0.8681890964508057, 0.8675881624221802, 0.8639823794364929, 0.8509615659713745, 0.8832131624221802, 0.8279246687889099, 0.8707932829856873, 0.8824118375778198, 0.8920272588729858, 0.8932291865348816, 0.893629789352417, 0.8733974099159241, 0.8832131624221802, 0.8543669581413269]}\n"
          ]
        },
        {
          "output_type": "display_data",
          "data": {
            "text/plain": [
              "<Figure size 576x360 with 1 Axes>"
            ],
            "image/png": "[encoded data removed]"
          },
          "metadata": {
            "needs_background": "light"
          }
        },
        {
          "output_type": "display_data",
          "data": {
            "text/plain": [
              "<Figure size 576x360 with 1 Axes>"
            ],
            "image/png": "[encoded data removed]"
          },
          "metadata": {
            "needs_background": "light"
          }
        }
      ]
    },
    {
      "cell_type": "markdown",
      "source": [
        "# 对测试样本集进行预测\n"
      ],
      "metadata": {
        "id": "OrwuL9HJzAtr"
      }
    },
    {
      "cell_type": "code",
      "metadata": {
        "id": "f8yiLEO6cQYX",
        "colab": {
          "base_uri": "https://localhost:8080/"
        },
        "outputId": "cab3838b-06bc-4f09-a363-41221a194c6b"
      },
      "source": [
        "test_datagen = keras.preprocessing.image.ImageDataGenerator(\n",
        "    rescale = 1./255)\n",
        "test_generator = valid_datagen.flow_from_dataframe(\n",
        "    test_df,\n",
        "    directory = './',\n",
        "    x_col = 'filepath',\n",
        "    y_col = 'class',\n",
        "    classes = class_names,\n",
        "    target_size = (height, width),\n",
        "    batch_size = batch_size,\n",
        "    seed = 7,\n",
        "    shuffle = False,\n",
        "    class_mode = \"sparse\")\n",
        "test_num = test_generator.samples\n",
        "print(test_num)"
      ],
      "execution_count": 33,
      "outputs": [
        {
          "output_type": "stream",
          "name": "stdout",
          "text": [
            "Found 300000 validated image filenames belonging to 10 classes.\n",
            "300000\n"
          ]
        }
      ]
    },
    {
      "cell_type": "code",
      "metadata": {
        "id": "U9xh0XHjcQYY"
      },
      "source": [
        "#这里运行时间太久，等上了GPU再说\n",
        "test_predict = model.predict(test_generator,\n",
        "                                       workers = 2,\n",
        "                                       use_multiprocessing = True)"
      ],
      "execution_count": 34,
      "outputs": []
    },
    {
      "cell_type": "code",
      "metadata": {
        "id": "Bap3Z-tXcQYY",
        "colab": {
          "base_uri": "https://localhost:8080/"
        },
        "outputId": "6004e492-b6d9-4590-a859-b2d38ec02ed3"
      },
      "source": [
        "print(test_predict.shape)"
      ],
      "execution_count": 35,
      "outputs": [
        {
          "output_type": "stream",
          "name": "stdout",
          "text": [
            "(300000, 10)\n"
          ]
        }
      ]
    },
    {
      "cell_type": "code",
      "metadata": {
        "id": "_xRdjEBocQYZ",
        "colab": {
          "base_uri": "https://localhost:8080/"
        },
        "outputId": "bc4b22cd-244f-4da8-a1a1-e320618d74ce"
      },
      "source": [
        "#每一个样本预测输出的是10个概率值\n",
        "print(test_predict[0:5])"
      ],
      "execution_count": 36,
      "outputs": [
        {
          "output_type": "stream",
          "name": "stdout",
          "text": [
            "[[8.53697397e-03 5.11474349e-03 1.66420080e-03 9.45749460e-04\n",
            "  2.27529160e-03 6.08863833e-04 4.72291780e-04 5.09067439e-04\n",
            "  4.20197612e-03 9.75670815e-01]\n",
            " [9.18870032e-01 1.15512509e-03 2.84573500e-04 1.02851634e-04\n",
            "  3.13611294e-04 2.48115575e-05 9.10802410e-05 1.35064292e-05\n",
            "  7.56566599e-02 3.48784635e-03]\n",
            " [9.56420987e-09 9.99968290e-01 4.39431748e-13 4.50429104e-11\n",
            "  7.98033514e-13 7.06879650e-13 3.91738942e-12 1.46227269e-12\n",
            "  3.78670117e-09 3.17118174e-05]\n",
            " [1.61913014e-03 9.81015774e-07 1.57221780e-06 2.60711431e-07\n",
            "  3.19550367e-07 1.61230773e-07 1.14564023e-06 4.93545222e-08\n",
            "  9.98373747e-01 2.59995500e-06]\n",
            " [8.90208781e-01 1.65480364e-04 9.89145339e-02 9.99790500e-04\n",
            "  6.80044526e-03 2.58084416e-04 5.69263706e-04 2.33243700e-04\n",
            "  1.63853704e-03 2.11935578e-04]]\n"
          ]
        }
      ]
    },
    {
      "cell_type": "code",
      "metadata": {
        "id": "E_2GxNDIcQYZ"
      },
      "source": [
        "#一个向量中谁的值最大，返回其下标\n",
        "test_predict_class_indices = np.argmax(test_predict, axis = 1)"
      ],
      "execution_count": 37,
      "outputs": []
    },
    {
      "cell_type": "code",
      "metadata": {
        "id": "xM0A3hBicQYZ",
        "colab": {
          "base_uri": "https://localhost:8080/"
        },
        "outputId": "76d6adef-d097-4c14-e485-5901f588197d"
      },
      "source": [
        "print(test_predict_class_indices[0:5])"
      ],
      "execution_count": 38,
      "outputs": [
        {
          "output_type": "stream",
          "name": "stdout",
          "text": [
            "[9 0 1 8 0]\n"
          ]
        }
      ]
    },
    {
      "cell_type": "code",
      "metadata": {
        "id": "-QhBtxE2cQYZ"
      },
      "source": [
        "test_predict_class = [class_names[index] for index in test_predict_class_indices]"
      ],
      "execution_count": 39,
      "outputs": []
    },
    {
      "cell_type": "code",
      "metadata": {
        "id": "9UcaE4OvcQYa",
        "colab": {
          "base_uri": "https://localhost:8080/"
        },
        "outputId": "8d6d6ebd-a00f-44db-a7ac-17f02aa5033d"
      },
      "source": [
        "print(test_predict_class[0:5])"
      ],
      "execution_count": 40,
      "outputs": [
        {
          "output_type": "stream",
          "name": "stdout",
          "text": [
            "['truck', 'airplane', 'automobile', 'ship', 'airplane']\n"
          ]
        }
      ]
    },
    {
      "cell_type": "code",
      "metadata": {
        "id": "HJqU2T2McQYa"
      },
      "source": [
        "#产生最终的报告\n",
        "def generate_submissions(filename, predict_class):\n",
        "  with open(filename, 'w') as f:\n",
        "    f.write('id,label\\n')\n",
        "    for i in range(len(predict_class)):\n",
        "      f.write('%d,%s\\n' % (i+1, predict_class[i]))\n",
        "\n",
        "output_file = \"./submission.csv\"\n",
        "generate_submissions(output_file, test_predict_class)"
      ],
      "execution_count": 41,
      "outputs": []
    },
    {
      "cell_type": "code",
      "metadata": {
        "id": "e6YfIry9cQYa",
        "colab": {
          "base_uri": "https://localhost:8080/"
        },
        "outputId": "053741c8-ca80-4a36-fec8-25b8abad3c41"
      },
      "source": [
        "!ls"
      ],
      "execution_count": 42,
      "outputs": [
        {
          "output_type": "stream",
          "name": "stdout",
          "text": [
            "competitions  sample_data\t    submission.csv  train.7z\n",
            "kaggle.json   sampleSubmission.csv  test.7z\t    trainLabels.csv\n"
          ]
        }
      ]
    },
    {
      "cell_type": "code",
      "source": [
        "!kaggle competitions submit -c cifar-10 -f submission.csv -m \"Message\""
      ],
      "metadata": {
        "colab": {
          "base_uri": "https://localhost:8080/"
        },
        "id": "G8xzsFD79YSQ",
        "outputId": "f11ff13b-3daf-43d2-e4aa-e1e148c027a8"
      },
      "execution_count": 43,
      "outputs": [
        {
          "output_type": "stream",
          "name": "stdout",
          "text": [
            "100% 3.62M/3.62M [00:04<00:00, 941kB/s] \n",
            "Successfully submitted to CIFAR-10 - Object Recognition in Images"
          ]
        }
      ]
    }
  ]
}