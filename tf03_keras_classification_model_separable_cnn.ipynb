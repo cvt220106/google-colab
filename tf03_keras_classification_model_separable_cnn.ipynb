{
  "cells": [
    {
      "cell_type": "markdown",
      "metadata": {
        "id": "view-in-github",
        "colab_type": "text"
      },
      "source": [
        "<a href=\"https://colab.research.google.com/github/cvt220106/google-colab/blob/main/tf03_keras_classification_model_separable_cnn.ipynb\" target=\"_parent\"><img src=\"https://colab.research.google.com/assets/colab-badge.svg\" alt=\"Open In Colab\"/></a>"
      ]
    },
    {
      "cell_type": "code",
      "execution_count": 14,
      "metadata": {
        "colab": {
          "base_uri": "https://localhost:8080/"
        },
        "id": "H3zrUWkQr1vK",
        "outputId": "6bd0e671-ef23-4b05-8343-338eb58e070b"
      },
      "outputs": [
        {
          "output_type": "stream",
          "name": "stdout",
          "text": [
            "2.8.2\n",
            "sys.version_info(major=3, minor=7, micro=13, releaselevel='final', serial=0)\n",
            "matplotlib 3.2.2\n",
            "numpy 1.21.6\n",
            "pandas 1.3.5\n",
            "sklearn 1.0.2\n",
            "tensorflow 2.8.2\n",
            "keras.api._v2.keras 2.8.0\n"
          ]
        }
      ],
      "source": [
        "import matplotlib as mpl\n",
        "import matplotlib.pyplot as plt\n",
        "%matplotlib inline\n",
        "import numpy as np\n",
        "import sklearn\n",
        "import pandas as pd\n",
        "import os\n",
        "import sys\n",
        "import time\n",
        "import tensorflow as tf\n",
        "\n",
        "from tensorflow import keras\n",
        "\n",
        "print(tf.__version__)\n",
        "print(sys.version_info)\n",
        "for module in mpl, np, pd, sklearn, tf, keras:\n",
        "    print(module.__name__, module.__version__)\n"
      ]
    },
    {
      "cell_type": "code",
      "execution_count": 15,
      "metadata": {
        "colab": {
          "base_uri": "https://localhost:8080/"
        },
        "id": "WrkH8j-Lr1vO",
        "outputId": "23187919-a419-4fe1-df55-9c6cbafaca46"
      },
      "outputs": [
        {
          "output_type": "stream",
          "name": "stdout",
          "text": [
            "(5000, 28, 28) (5000,)\n",
            "(55000, 28, 28) (55000,)\n",
            "(10000, 28, 28) (10000,)\n"
          ]
        }
      ],
      "source": [
        "fashion_mnist = keras.datasets.fashion_mnist\n",
        "(x_train_all, y_train_all), (x_test, y_test) = fashion_mnist.load_data()\n",
        "x_valid, x_train = x_train_all[:5000], x_train_all[5000:]\n",
        "y_valid, y_train = y_train_all[:5000], y_train_all[5000:]\n",
        "\n",
        "print(x_valid.shape, y_valid.shape)\n",
        "print(x_train.shape, y_train.shape)\n",
        "print(x_test.shape, y_test.shape)"
      ]
    },
    {
      "cell_type": "code",
      "execution_count": 16,
      "metadata": {
        "id": "B5-Qg_IUr1vP"
      },
      "outputs": [],
      "source": [
        "from sklearn.preprocessing import StandardScaler\n",
        "\n",
        "scaler = StandardScaler()\n",
        "x_train_scaled = scaler.fit_transform(\n",
        "    x_train.astype(np.float32).reshape(-1, 1)).reshape(-1, 28, 28, 1)\n",
        "x_valid_scaled = scaler.transform(\n",
        "    x_valid.astype(np.float32).reshape(-1, 1)).reshape(-1, 28, 28, 1)\n",
        "x_test_scaled = scaler.transform(\n",
        "    x_test.astype(np.float32).reshape(-1, 1)).reshape(-1, 28, 28, 1)\n",
        "# reshape最后的1时增添通道维数,从而满足卷积神经网络的输入\n"
      ]
    },
    {
      "cell_type": "code",
      "execution_count": 17,
      "metadata": {
        "id": "lBi0vZ6Nr1vP"
      },
      "outputs": [],
      "source": [
        "model = keras.models.Sequential()\n",
        "model.add(keras.layers.Conv2D(filters=32, kernel_size=3,\n",
        "                              padding='same',\n",
        "                              activation='selu',\n",
        "                              input_shape=(28, 28, 1)))\n",
        "#这里就是深度可分离卷积--SeparableConv2D\n",
        "model.add(keras.layers.SeparableConv2D(filters=32, kernel_size=3,\n",
        "                                       padding='same',\n",
        "                                       activation='selu'))\n",
        "model.add(keras.layers.MaxPool2D(pool_size=2))\n",
        "model.add(keras.layers.SeparableConv2D(filters=64, kernel_size=3,\n",
        "                                       padding='same',\n",
        "                                       activation='selu'))\n",
        "model.add(keras.layers.SeparableConv2D(filters=64, kernel_size=3,\n",
        "                                       padding='same',\n",
        "                                       activation='selu'))\n",
        "model.add(keras.layers.MaxPool2D(pool_size=2))\n",
        "model.add(keras.layers.SeparableConv2D(filters=128, kernel_size=3,\n",
        "                                       padding='same',\n",
        "                                       activation='selu'))\n",
        "model.add(keras.layers.SeparableConv2D(filters=128, kernel_size=3,\n",
        "                                       padding='same',\n",
        "                                       activation='selu'))\n",
        "model.add(keras.layers.MaxPool2D(pool_size=2))\n",
        "model.add(keras.layers.Flatten())\n",
        "model.add(keras.layers.Dense(128, activation='selu'))\n",
        "model.add(keras.layers.Dense(10, activation=\"softmax\"))\n",
        "\n",
        "model.compile(loss=\"sparse_categorical_crossentropy\",\n",
        "              optimizer = \"sgd\",\n",
        "              metrics = [\"accuracy\"])"
      ]
    },
    {
      "cell_type": "markdown",
      "source": [
        "深度可分离神经网络下,能够有效减少参数个数,并且不损失太多的准确率<br>\n",
        "具体参数计算方式为:\n",
        "> 卷积核大小(3x3)x上一层的输出层数+上一层的输出层数*当前层的卷积核数(通道数)+当前层的卷积核数(bias)<br>\n",
        "> 1344=(3x3)x32+32x32+32<br>\n",
        "> 2400=(3x3)x32+32x64+64<br>\n",
        "\n",
        "在忽略掉bias的情况下,计算一下深度可分离网络的参数压缩率<br>\n",
        "记卷积核大小为Dk,上一层的输出层数为M,当前层的卷积核数为N\n",
        "> Dk^2xM+MxN/Dk^2xMxN=1/N+1/Dk^2"
      ],
      "metadata": {
        "id": "gRxnyAsyxhMK"
      }
    },
    {
      "cell_type": "code",
      "execution_count": 18,
      "metadata": {
        "colab": {
          "base_uri": "https://localhost:8080/"
        },
        "id": "mHQ6bK2Wr1vR",
        "outputId": "2ae3e12b-6976-4641-f37e-0c5662aadac7"
      },
      "outputs": [
        {
          "output_type": "stream",
          "name": "stdout",
          "text": [
            "Model: \"sequential_1\"\n",
            "_________________________________________________________________\n",
            " Layer (type)                Output Shape              Param #   \n",
            "=================================================================\n",
            " conv2d_1 (Conv2D)           (None, 28, 28, 32)        320       \n",
            "                                                                 \n",
            " separable_conv2d_5 (Separab  (None, 28, 28, 32)       1344      \n",
            " leConv2D)                                                       \n",
            "                                                                 \n",
            " max_pooling2d_3 (MaxPooling  (None, 14, 14, 32)       0         \n",
            " 2D)                                                             \n",
            "                                                                 \n",
            " separable_conv2d_6 (Separab  (None, 14, 14, 64)       2400      \n",
            " leConv2D)                                                       \n",
            "                                                                 \n",
            " separable_conv2d_7 (Separab  (None, 14, 14, 64)       4736      \n",
            " leConv2D)                                                       \n",
            "                                                                 \n",
            " max_pooling2d_4 (MaxPooling  (None, 7, 7, 64)         0         \n",
            " 2D)                                                             \n",
            "                                                                 \n",
            " separable_conv2d_8 (Separab  (None, 7, 7, 128)        8896      \n",
            " leConv2D)                                                       \n",
            "                                                                 \n",
            " separable_conv2d_9 (Separab  (None, 7, 7, 128)        17664     \n",
            " leConv2D)                                                       \n",
            "                                                                 \n",
            " max_pooling2d_5 (MaxPooling  (None, 3, 3, 128)        0         \n",
            " 2D)                                                             \n",
            "                                                                 \n",
            " flatten_1 (Flatten)         (None, 1152)              0         \n",
            "                                                                 \n",
            " dense_2 (Dense)             (None, 128)               147584    \n",
            "                                                                 \n",
            " dense_3 (Dense)             (None, 10)                1290      \n",
            "                                                                 \n",
            "=================================================================\n",
            "Total params: 184,234\n",
            "Trainable params: 184,234\n",
            "Non-trainable params: 0\n",
            "_________________________________________________________________\n"
          ]
        }
      ],
      "source": [
        "model.summary()"
      ]
    },
    {
      "cell_type": "code",
      "execution_count": 19,
      "metadata": {
        "id": "v-Jr17VKr1vR"
      },
      "outputs": [],
      "source": [
        "# model.variables"
      ]
    },
    {
      "cell_type": "code",
      "execution_count": 20,
      "metadata": {
        "colab": {
          "base_uri": "https://localhost:8080/"
        },
        "id": "BYA19UpAr1vS",
        "outputId": "32f8fad7-ac65-4c53-9a0b-e8e1b97f0e4f"
      },
      "outputs": [
        {
          "output_type": "execute_result",
          "data": {
            "text/plain": [
              "[<keras.layers.convolutional.Conv2D at 0x7f02a8e2dc90>,\n",
              " <keras.layers.convolutional.SeparableConv2D at 0x7f033ad59ad0>,\n",
              " <keras.layers.pooling.MaxPooling2D at 0x7f033b8de5d0>,\n",
              " <keras.layers.convolutional.SeparableConv2D at 0x7f02be2b5490>,\n",
              " <keras.layers.convolutional.SeparableConv2D at 0x7f033003d790>,\n",
              " <keras.layers.pooling.MaxPooling2D at 0x7f02a8dc5310>,\n",
              " <keras.layers.convolutional.SeparableConv2D at 0x7f033d6c6850>,\n",
              " <keras.layers.convolutional.SeparableConv2D at 0x7f033b310510>,\n",
              " <keras.layers.pooling.MaxPooling2D at 0x7f02a8d5cbd0>,\n",
              " <keras.layers.core.flatten.Flatten at 0x7f02a8d59250>,\n",
              " <keras.layers.core.dense.Dense at 0x7f02a8d2e490>,\n",
              " <keras.layers.core.dense.Dense at 0x7f02a8d38ad0>]"
            ]
          },
          "metadata": {},
          "execution_count": 20
        }
      ],
      "source": [
        "model.layers"
      ]
    },
    {
      "cell_type": "code",
      "execution_count": 21,
      "metadata": {
        "scrolled": true,
        "colab": {
          "base_uri": "https://localhost:8080/"
        },
        "id": "t5xORXfYr1vS",
        "outputId": "24997ee4-6ed9-4102-c46f-d6b96ef7ef47"
      },
      "outputs": [
        {
          "output_type": "stream",
          "name": "stdout",
          "text": [
            "Epoch 1/100\n",
            "1719/1719 [==============================] - 9s 5ms/step - loss: 2.3018 - accuracy: 0.1081 - val_loss: 2.2980 - val_accuracy: 0.1296\n",
            "Epoch 2/100\n",
            "1719/1719 [==============================] - 8s 5ms/step - loss: 1.5475 - accuracy: 0.4602 - val_loss: 0.8100 - val_accuracy: 0.6962\n",
            "Epoch 3/100\n",
            "1719/1719 [==============================] - 11s 6ms/step - loss: 0.7326 - accuracy: 0.7263 - val_loss: 0.6550 - val_accuracy: 0.7586\n",
            "Epoch 4/100\n",
            "1719/1719 [==============================] - 11s 7ms/step - loss: 0.6300 - accuracy: 0.7645 - val_loss: 0.5860 - val_accuracy: 0.7740\n",
            "Epoch 5/100\n",
            "1719/1719 [==============================] - 8s 5ms/step - loss: 0.5554 - accuracy: 0.7907 - val_loss: 0.5059 - val_accuracy: 0.8150\n",
            "Epoch 6/100\n",
            "1719/1719 [==============================] - 8s 5ms/step - loss: 0.5067 - accuracy: 0.8081 - val_loss: 0.4898 - val_accuracy: 0.8146\n",
            "Epoch 7/100\n",
            "1719/1719 [==============================] - 8s 5ms/step - loss: 0.4711 - accuracy: 0.8233 - val_loss: 0.4527 - val_accuracy: 0.8332\n",
            "Epoch 8/100\n",
            "1719/1719 [==============================] - 8s 5ms/step - loss: 0.4416 - accuracy: 0.8357 - val_loss: 0.4320 - val_accuracy: 0.8390\n",
            "Epoch 9/100\n",
            "1719/1719 [==============================] - 8s 5ms/step - loss: 0.4188 - accuracy: 0.8446 - val_loss: 0.3984 - val_accuracy: 0.8628\n",
            "Epoch 10/100\n",
            "1719/1719 [==============================] - 8s 5ms/step - loss: 0.4000 - accuracy: 0.8521 - val_loss: 0.3782 - val_accuracy: 0.8698\n",
            "Epoch 11/100\n",
            "1719/1719 [==============================] - 8s 5ms/step - loss: 0.3812 - accuracy: 0.8583 - val_loss: 0.3595 - val_accuracy: 0.8752\n",
            "Epoch 12/100\n",
            "1719/1719 [==============================] - 8s 5ms/step - loss: 0.3664 - accuracy: 0.8654 - val_loss: 0.3571 - val_accuracy: 0.8732\n",
            "Epoch 13/100\n",
            "1719/1719 [==============================] - 9s 5ms/step - loss: 0.3526 - accuracy: 0.8679 - val_loss: 0.3708 - val_accuracy: 0.8696\n",
            "Epoch 14/100\n",
            "1719/1719 [==============================] - 8s 5ms/step - loss: 0.3395 - accuracy: 0.8742 - val_loss: 0.3413 - val_accuracy: 0.8780\n",
            "Epoch 15/100\n",
            "1719/1719 [==============================] - 8s 5ms/step - loss: 0.3270 - accuracy: 0.8794 - val_loss: 0.3214 - val_accuracy: 0.8834\n",
            "Epoch 16/100\n",
            "1719/1719 [==============================] - 8s 5ms/step - loss: 0.3162 - accuracy: 0.8825 - val_loss: 0.3298 - val_accuracy: 0.8826\n",
            "Epoch 17/100\n",
            "1719/1719 [==============================] - 8s 5ms/step - loss: 0.3065 - accuracy: 0.8865 - val_loss: 0.3234 - val_accuracy: 0.8850\n",
            "Epoch 18/100\n",
            "1719/1719 [==============================] - 8s 5ms/step - loss: 0.2972 - accuracy: 0.8895 - val_loss: 0.3214 - val_accuracy: 0.8844\n",
            "Epoch 19/100\n",
            "1719/1719 [==============================] - 8s 5ms/step - loss: 0.2897 - accuracy: 0.8920 - val_loss: 0.3018 - val_accuracy: 0.8878\n",
            "Epoch 20/100\n",
            "1719/1719 [==============================] - 8s 5ms/step - loss: 0.2820 - accuracy: 0.8952 - val_loss: 0.2974 - val_accuracy: 0.8940\n",
            "Epoch 21/100\n",
            "1719/1719 [==============================] - 8s 5ms/step - loss: 0.2750 - accuracy: 0.8977 - val_loss: 0.2960 - val_accuracy: 0.8948\n",
            "Epoch 22/100\n",
            "1719/1719 [==============================] - 8s 5ms/step - loss: 0.2682 - accuracy: 0.9003 - val_loss: 0.3335 - val_accuracy: 0.8756\n",
            "Epoch 23/100\n",
            "1719/1719 [==============================] - 8s 5ms/step - loss: 0.2618 - accuracy: 0.9026 - val_loss: 0.2779 - val_accuracy: 0.9002\n",
            "Epoch 24/100\n",
            "1719/1719 [==============================] - 8s 5ms/step - loss: 0.2562 - accuracy: 0.9059 - val_loss: 0.2786 - val_accuracy: 0.8988\n",
            "Epoch 25/100\n",
            "1719/1719 [==============================] - 8s 5ms/step - loss: 0.2506 - accuracy: 0.9063 - val_loss: 0.2918 - val_accuracy: 0.8912\n",
            "Epoch 26/100\n",
            "1719/1719 [==============================] - 8s 5ms/step - loss: 0.2444 - accuracy: 0.9108 - val_loss: 0.2747 - val_accuracy: 0.8980\n",
            "Epoch 27/100\n",
            "1719/1719 [==============================] - 8s 5ms/step - loss: 0.2387 - accuracy: 0.9117 - val_loss: 0.2920 - val_accuracy: 0.8918\n",
            "Epoch 28/100\n",
            "1719/1719 [==============================] - 8s 5ms/step - loss: 0.2346 - accuracy: 0.9133 - val_loss: 0.2870 - val_accuracy: 0.8966\n",
            "Epoch 29/100\n",
            "1719/1719 [==============================] - 8s 5ms/step - loss: 0.2300 - accuracy: 0.9145 - val_loss: 0.2652 - val_accuracy: 0.9008\n",
            "Epoch 30/100\n",
            "1719/1719 [==============================] - 8s 5ms/step - loss: 0.2253 - accuracy: 0.9165 - val_loss: 0.2547 - val_accuracy: 0.9072\n",
            "Epoch 31/100\n",
            "1719/1719 [==============================] - 9s 5ms/step - loss: 0.2203 - accuracy: 0.9183 - val_loss: 0.2690 - val_accuracy: 0.8996\n",
            "Epoch 32/100\n",
            "1719/1719 [==============================] - 8s 5ms/step - loss: 0.2153 - accuracy: 0.9210 - val_loss: 0.2651 - val_accuracy: 0.9016\n",
            "Epoch 33/100\n",
            "1719/1719 [==============================] - 9s 5ms/step - loss: 0.2121 - accuracy: 0.9226 - val_loss: 0.2574 - val_accuracy: 0.9032\n",
            "Epoch 34/100\n",
            "1719/1719 [==============================] - 9s 5ms/step - loss: 0.2078 - accuracy: 0.9231 - val_loss: 0.2639 - val_accuracy: 0.9016\n",
            "Epoch 35/100\n",
            "1719/1719 [==============================] - 9s 5ms/step - loss: 0.2032 - accuracy: 0.9249 - val_loss: 0.2605 - val_accuracy: 0.9074\n"
          ]
        }
      ],
      "source": [
        "logdir = './separable-cnn-selu-callbacks'\n",
        "if not os.path.exists(logdir):\n",
        "    os.mkdir(logdir)\n",
        "output_model_file = os.path.join(logdir,\n",
        "                                 \"fashion_mnist_model.h5\")\n",
        "\n",
        "callbacks = [\n",
        "    keras.callbacks.TensorBoard(logdir),\n",
        "    keras.callbacks.ModelCheckpoint(output_model_file,\n",
        "                                    save_best_only = True),\n",
        "    keras.callbacks.EarlyStopping(patience=5, min_delta=1e-3),\n",
        "]\n",
        "history = model.fit(x_train_scaled, y_train, epochs=100,\n",
        "                    validation_data=(x_valid_scaled, y_valid),\n",
        "                    callbacks = callbacks)"
      ]
    },
    {
      "cell_type": "code",
      "execution_count": 25,
      "metadata": {
        "colab": {
          "base_uri": "https://localhost:8080/",
          "height": 324
        },
        "id": "ccwMg46jr1vT",
        "outputId": "69f84e54-69f3-4439-a167-061da5ee8786"
      },
      "outputs": [
        {
          "output_type": "display_data",
          "data": {
            "text/plain": [
              "<Figure size 576x360 with 1 Axes>"
            ],
            "image/png": "[encoded data removed]"
          },
          "metadata": {
            "needs_background": "light"
          }
        }
      ],
      "source": [
        "def plot_learning_curves(history):\n",
        "    pd.DataFrame(history.history).plot(figsize=(8, 5))\n",
        "    plt.grid(True)\n",
        "    plt.gca().set_ylim(0, 3)\n",
        "    plt.show()\n",
        "\n",
        "plot_learning_curves(history)"
      ]
    },
    {
      "cell_type": "code",
      "execution_count": 23,
      "metadata": {
        "colab": {
          "base_uri": "https://localhost:8080/"
        },
        "id": "TM1MZw70r1vU",
        "outputId": "4480b42a-b907-413c-8e8b-55fd3998ec07"
      },
      "outputs": [
        {
          "output_type": "execute_result",
          "data": {
            "text/plain": [
              "[0.28372910618782043, 0.9021999835968018]"
            ]
          },
          "metadata": {},
          "execution_count": 23
        }
      ],
      "source": [
        "model.evaluate(x_test_scaled, y_test, verbose = 0)"
      ]
    },
    {
      "cell_type": "markdown",
      "source": [
        "在其他条件相同下,相较于常规的神经网络\n",
        "1. 最终参数量:435306--184334\n",
        "2. 收敛速度:变慢\n",
        "3. 训练次数:20--35\n",
        "1. 最终评估:loss稍稍增大,currency稍稍减少\n",
        ">[0.2705853581428528, 0.9115999937057495]-->[0.28372910618782043, 0.9021999835968018]"
      ],
      "metadata": {
        "id": "qYSy-bcJ6Ojy"
      }
    }
  ],
  "metadata": {
    "kernelspec": {
      "display_name": "Python 3",
      "language": "python",
      "name": "python3"
    },
    "language_info": {
      "codemirror_mode": {
        "name": "ipython",
        "version": 3
      },
      "file_extension": ".py",
      "mimetype": "text/x-python",
      "name": "python",
      "nbconvert_exporter": "python",
      "pygments_lexer": "ipython3",
      "version": "3.6.9"
    },
    "colab": {
      "name": "tf03_keras_classification_model-separable_cnn.ipynb",
      "provenance": [],
      "collapsed_sections": [],
      "include_colab_link": true
    },
    "accelerator": "GPU",
    "gpuClass": "standard"
  },
  "nbformat": 4,
  "nbformat_minor": 0
}