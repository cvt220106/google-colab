{
  "cells": [
    {
      "cell_type": "markdown",
      "metadata": {
        "id": "view-in-github",
        "colab_type": "text"
      },
      "source": [
        "<a href=\"https://colab.research.google.com/github/cvt220106/google-colab/blob/main/tf01_keras_classification_model_cnn.ipynb\" target=\"_parent\"><img src=\"https://colab.research.google.com/assets/colab-badge.svg\" alt=\"Open In Colab\"/></a>"
      ]
    },
    {
      "cell_type": "code",
      "execution_count": 1,
      "metadata": {
        "colab": {
          "base_uri": "https://localhost:8080/"
        },
        "id": "KPAoRgCBl76E",
        "outputId": "4419e10a-8445-4527-8b48-2913d198b37f"
      },
      "outputs": [
        {
          "output_type": "stream",
          "name": "stdout",
          "text": [
            "2.8.2\n",
            "sys.version_info(major=3, minor=7, micro=13, releaselevel='final', serial=0)\n",
            "matplotlib 3.2.2\n",
            "numpy 1.21.6\n",
            "pandas 1.3.5\n",
            "sklearn 1.0.2\n",
            "tensorflow 2.8.2\n",
            "keras.api._v2.keras 2.8.0\n"
          ]
        }
      ],
      "source": [
        "import matplotlib as mpl\n",
        "import matplotlib.pyplot as plt\n",
        "%matplotlib inline\n",
        "import numpy as np\n",
        "import sklearn\n",
        "import pandas as pd\n",
        "import os\n",
        "import sys\n",
        "import time\n",
        "import tensorflow as tf\n",
        "\n",
        "from tensorflow import keras\n",
        "\n",
        "print(tf.__version__)\n",
        "print(sys.version_info)\n",
        "for module in mpl, np, pd, sklearn, tf, keras:\n",
        "    print(module.__name__, module.__version__)\n"
      ]
    },
    {
      "cell_type": "code",
      "source": [
        ""
      ],
      "metadata": {
        "id": "HxvbHrBrBvhc"
      },
      "execution_count": 1,
      "outputs": []
    },
    {
      "cell_type": "code",
      "source": [
        "!nvidia-smi"
      ],
      "metadata": {
        "colab": {
          "base_uri": "https://localhost:8080/"
        },
        "id": "d09KVkH76gYY",
        "outputId": "a4fcdbf9-1617-401a-9ed0-125b6fac7e24"
      },
      "execution_count": 2,
      "outputs": [
        {
          "output_type": "stream",
          "name": "stdout",
          "text": [
            "Tue Jul 26 13:09:28 2022       \n",
            "+-----------------------------------------------------------------------------+\n",
            "| NVIDIA-SMI 460.32.03    Driver Version: 460.32.03    CUDA Version: 11.2     |\n",
            "|-------------------------------+----------------------+----------------------+\n",
            "| GPU  Name        Persistence-M| Bus-Id        Disp.A | Volatile Uncorr. ECC |\n",
            "| Fan  Temp  Perf  Pwr:Usage/Cap|         Memory-Usage | GPU-Util  Compute M. |\n",
            "|                               |                      |               MIG M. |\n",
            "|===============================+======================+======================|\n",
            "|   0  Tesla T4            Off  | 00000000:00:04.0 Off |                    0 |\n",
            "| N/A   32C    P8     9W /  70W |      0MiB / 15109MiB |      0%      Default |\n",
            "|                               |                      |                  N/A |\n",
            "+-------------------------------+----------------------+----------------------+\n",
            "                                                                               \n",
            "+-----------------------------------------------------------------------------+\n",
            "| Processes:                                                                  |\n",
            "|  GPU   GI   CI        PID   Type   Process name                  GPU Memory |\n",
            "|        ID   ID                                                   Usage      |\n",
            "|=============================================================================|\n",
            "|  No running processes found                                                 |\n",
            "+-----------------------------------------------------------------------------+\n"
          ]
        }
      ]
    },
    {
      "cell_type": "code",
      "execution_count": 3,
      "metadata": {
        "colab": {
          "base_uri": "https://localhost:8080/"
        },
        "id": "a4KSjvwsl76N",
        "outputId": "b6053187-7b6f-43b6-cea5-140a21ff3737"
      },
      "outputs": [
        {
          "output_type": "stream",
          "name": "stdout",
          "text": [
            "Downloading data from https://storage.googleapis.com/tensorflow/tf-keras-datasets/train-labels-idx1-ubyte.gz\n",
            "32768/29515 [=================================] - 0s 0us/step\n",
            "40960/29515 [=========================================] - 0s 0us/step\n",
            "Downloading data from https://storage.googleapis.com/tensorflow/tf-keras-datasets/train-images-idx3-ubyte.gz\n",
            "26427392/26421880 [==============================] - 0s 0us/step\n",
            "26435584/26421880 [==============================] - 0s 0us/step\n",
            "Downloading data from https://storage.googleapis.com/tensorflow/tf-keras-datasets/t10k-labels-idx1-ubyte.gz\n",
            "16384/5148 [===============================================================================================] - 0s 0us/step\n",
            "Downloading data from https://storage.googleapis.com/tensorflow/tf-keras-datasets/t10k-images-idx3-ubyte.gz\n",
            "4423680/4422102 [==============================] - 0s 0us/step\n",
            "4431872/4422102 [==============================] - 0s 0us/step\n",
            "(5000, 28, 28) (5000,)\n",
            "(55000, 28, 28) (55000,)\n",
            "(10000, 28, 28) (10000,)\n"
          ]
        }
      ],
      "source": [
        "fashion_mnist = keras.datasets.fashion_mnist\n",
        "(x_train_all, y_train_all), (x_test, y_test) = fashion_mnist.load_data()\n",
        "x_valid, x_train = x_train_all[:5000], x_train_all[5000:]\n",
        "y_valid, y_train = y_train_all[:5000], y_train_all[5000:]\n",
        "\n",
        "print(x_valid.shape, y_valid.shape)\n",
        "print(x_train.shape, y_train.shape)\n",
        "print(x_test.shape, y_test.shape)"
      ]
    },
    {
      "cell_type": "code",
      "execution_count": 4,
      "metadata": {
        "id": "BuczBKsHl76O"
      },
      "outputs": [],
      "source": [
        "from sklearn.preprocessing import StandardScaler\n",
        "\n",
        "scaler = StandardScaler()\n",
        "x_train_scaled = scaler.fit_transform(\n",
        "    x_train.astype(np.float32).reshape(-1, 1)).reshape(-1, 28, 28, 1)\n",
        "x_valid_scaled = scaler.transform(\n",
        "    x_valid.astype(np.float32).reshape(-1, 1)).reshape(-1, 28, 28, 1)\n",
        "x_test_scaled = scaler.transform(\n",
        "    x_test.astype(np.float32).reshape(-1, 1)).reshape(-1, 28, 28, 1)\n"
      ]
    },
    {
      "cell_type": "code",
      "execution_count": 5,
      "metadata": {
        "colab": {
          "base_uri": "https://localhost:8080/"
        },
        "id": "m3AgbIuWl76P",
        "outputId": "d2daae3b-5401-4436-fc82-ddb1f5a4fa7c"
      },
      "outputs": [
        {
          "output_type": "stream",
          "name": "stdout",
          "text": [
            "[[1 2 3]\n",
            " [4 5 6]\n",
            " [7 8 9]]\n"
          ]
        },
        {
          "output_type": "execute_result",
          "data": {
            "text/plain": [
              "array([[[1],\n",
              "        [2],\n",
              "        [3]],\n",
              "\n",
              "       [[4],\n",
              "        [5],\n",
              "        [6]],\n",
              "\n",
              "       [[7],\n",
              "        [8],\n",
              "        [9]]])"
            ]
          },
          "metadata": {},
          "execution_count": 5
        }
      ],
      "source": [
        "a=np.arange(1,10).reshape(3,3)\n",
        "print(a)\n",
        "b=a.reshape(3,3,1)\n",
        "b"
      ]
    },
    {
      "cell_type": "code",
      "execution_count": 6,
      "metadata": {
        "id": "9q5liMzXl76Q"
      },
      "outputs": [],
      "source": [
        "# x_train_scaled[1]"
      ]
    },
    {
      "cell_type": "code",
      "execution_count": 7,
      "metadata": {
        "id": "Ksy1Xq2Ol76R"
      },
      "outputs": [],
      "source": [
        "model = keras.models.Sequential()\n",
        "#添加卷积层，filters输出有多少通道，就是有多少卷积核，kernel_size卷积核的大小，\n",
        "# padding是否加上padding，same代表输出和输入大小一样，1代表通道数目是1\n",
        "model.add(keras.layers.Conv2D(filters=32, kernel_size=3,\n",
        "                              padding='same',\n",
        "                              activation='relu',\n",
        "                              input_shape=(28, 28, 1)))\n",
        "model.add(keras.layers.Conv2D(filters=32, kernel_size=3,\n",
        "                              padding='same',\n",
        "                              activation='relu'))\n",
        "#添加池化层，pool_size是窗口大小，步长默认和窗口大小相等\n",
        "model.add(keras.layers.MaxPool2D(pool_size=2))\n",
        "#为了缓解损失，所以filters翻倍\n",
        "model.add(keras.layers.Conv2D(filters=64, kernel_size=3,\n",
        "                              padding='same',\n",
        "                              activation='relu'))\n",
        "model.add(keras.layers.Conv2D(filters=64, kernel_size=3,\n",
        "                              padding='same',\n",
        "                              activation='relu'))\n",
        "model.add(keras.layers.MaxPool2D(pool_size=(2,2)))\n",
        "model.add(keras.layers.Conv2D(filters=128, kernel_size=3,\n",
        "                              padding='same',\n",
        "                              activation='relu'))\n",
        "model.add(keras.layers.Conv2D(filters=128, kernel_size=3,\n",
        "                              padding='same',\n",
        "                              activation='relu'))\n",
        "model.add(keras.layers.MaxPool2D(pool_size=2))\n",
        "model.add(keras.layers.Flatten())\n",
        "model.add(keras.layers.Dense(128, activation='relu'))\n",
        "model.add(keras.layers.Dense(10, activation=\"softmax\"))\n",
        "\n",
        "model.compile(loss=\"sparse_categorical_crossentropy\",\n",
        "              optimizer = \"sgd\",\n",
        "              metrics = [\"accuracy\"])"
      ]
    },
    {
      "cell_type": "markdown",
      "source": [
        "> 参数个数的计算:param=卷积核(3x3)x当前层的卷积核数x上一层的输出层数+当前层卷积核数;相当于wx+b<br>\n",
        "> 320=(3x3)x1x32+32\n",
        "> 9248=(3x3)x32x32+32"
      ],
      "metadata": {
        "id": "S6PubnK-kAHd"
      }
    },
    {
      "cell_type": "code",
      "execution_count": 8,
      "metadata": {
        "colab": {
          "base_uri": "https://localhost:8080/"
        },
        "id": "zE0Btk5Ul76T",
        "outputId": "5abfbd65-505e-46f6-a30d-4e2b23a3bbef"
      },
      "outputs": [
        {
          "output_type": "stream",
          "name": "stdout",
          "text": [
            "Model: \"sequential\"\n",
            "_________________________________________________________________\n",
            " Layer (type)                Output Shape              Param #   \n",
            "=================================================================\n",
            " conv2d (Conv2D)             (None, 28, 28, 32)        320       \n",
            "                                                                 \n",
            " conv2d_1 (Conv2D)           (None, 28, 28, 32)        9248      \n",
            "                                                                 \n",
            " max_pooling2d (MaxPooling2D  (None, 14, 14, 32)       0         \n",
            " )                                                               \n",
            "                                                                 \n",
            " conv2d_2 (Conv2D)           (None, 14, 14, 64)        18496     \n",
            "                                                                 \n",
            " conv2d_3 (Conv2D)           (None, 14, 14, 64)        36928     \n",
            "                                                                 \n",
            " max_pooling2d_1 (MaxPooling  (None, 7, 7, 64)         0         \n",
            " 2D)                                                             \n",
            "                                                                 \n",
            " conv2d_4 (Conv2D)           (None, 7, 7, 128)         73856     \n",
            "                                                                 \n",
            " conv2d_5 (Conv2D)           (None, 7, 7, 128)         147584    \n",
            "                                                                 \n",
            " max_pooling2d_2 (MaxPooling  (None, 3, 3, 128)        0         \n",
            " 2D)                                                             \n",
            "                                                                 \n",
            " flatten (Flatten)           (None, 1152)              0         \n",
            "                                                                 \n",
            " dense (Dense)               (None, 128)               147584    \n",
            "                                                                 \n",
            " dense_1 (Dense)             (None, 10)                1290      \n",
            "                                                                 \n",
            "=================================================================\n",
            "Total params: 435,306\n",
            "Trainable params: 435,306\n",
            "Non-trainable params: 0\n",
            "_________________________________________________________________\n"
          ]
        }
      ],
      "source": [
        "model.summary()"
      ]
    },
    {
      "cell_type": "code",
      "execution_count": 9,
      "metadata": {
        "id": "ep9BIU_7l76V"
      },
      "outputs": [],
      "source": [
        "# model.variables"
      ]
    },
    {
      "cell_type": "code",
      "execution_count": 10,
      "metadata": {
        "colab": {
          "base_uri": "https://localhost:8080/"
        },
        "id": "dPWVFTiVl76Y",
        "outputId": "82e3827d-7917-4f54-bddf-43013516945e"
      },
      "outputs": [
        {
          "output_type": "execute_result",
          "data": {
            "text/plain": [
              "9248"
            ]
          },
          "metadata": {},
          "execution_count": 10
        }
      ],
      "source": [
        "32*32*9+32"
      ]
    },
    {
      "cell_type": "code",
      "execution_count": 11,
      "metadata": {
        "colab": {
          "base_uri": "https://localhost:8080/"
        },
        "id": "JoJ-Fobsl76Z",
        "outputId": "eab78567-0654-4f5d-a050-24099bbe27b5"
      },
      "outputs": [
        {
          "output_type": "stream",
          "name": "stdout",
          "text": [
            "sample_data\n"
          ]
        }
      ],
      "source": [
        "!ls"
      ]
    },
    {
      "cell_type": "code",
      "execution_count": 12,
      "metadata": {
        "id": "o0fXnChBl76a"
      },
      "outputs": [],
      "source": [
        "!rm -rf cnn-relu-callbacks"
      ]
    },
    {
      "cell_type": "code",
      "execution_count": 13,
      "metadata": {
        "colab": {
          "base_uri": "https://localhost:8080/"
        },
        "id": "v8cycmpTl76a",
        "outputId": "43767373-6a20-48c5-dc3e-dd88e6434dad"
      },
      "outputs": [
        {
          "output_type": "stream",
          "name": "stdout",
          "text": [
            "Epoch 1/100\n",
            "1719/1719 [==============================] - 21s 5ms/step - loss: 0.7817 - accuracy: 0.7144 - val_loss: 0.4506 - val_accuracy: 0.8314\n",
            "Epoch 2/100\n",
            "1719/1719 [==============================] - 9s 5ms/step - loss: 0.4196 - accuracy: 0.8447 - val_loss: 0.3788 - val_accuracy: 0.8554\n",
            "Epoch 3/100\n",
            "1719/1719 [==============================] - 8s 5ms/step - loss: 0.3529 - accuracy: 0.8693 - val_loss: 0.3461 - val_accuracy: 0.8696\n",
            "Epoch 4/100\n",
            "1719/1719 [==============================] - 8s 5ms/step - loss: 0.3200 - accuracy: 0.8813 - val_loss: 0.3098 - val_accuracy: 0.8844\n",
            "Epoch 5/100\n",
            "1719/1719 [==============================] - 9s 5ms/step - loss: 0.2964 - accuracy: 0.8905 - val_loss: 0.3211 - val_accuracy: 0.8820\n",
            "Epoch 6/100\n",
            "1719/1719 [==============================] - 8s 5ms/step - loss: 0.2780 - accuracy: 0.8974 - val_loss: 0.2927 - val_accuracy: 0.8902\n",
            "Epoch 7/100\n",
            "1719/1719 [==============================] - 9s 5ms/step - loss: 0.2620 - accuracy: 0.9035 - val_loss: 0.2823 - val_accuracy: 0.8938\n",
            "Epoch 8/100\n",
            "1719/1719 [==============================] - 9s 5ms/step - loss: 0.2478 - accuracy: 0.9087 - val_loss: 0.2591 - val_accuracy: 0.9060\n",
            "Epoch 9/100\n",
            "1719/1719 [==============================] - 8s 5ms/step - loss: 0.2338 - accuracy: 0.9139 - val_loss: 0.2635 - val_accuracy: 0.9010\n",
            "Epoch 10/100\n",
            "1719/1719 [==============================] - 9s 5ms/step - loss: 0.2218 - accuracy: 0.9185 - val_loss: 0.2518 - val_accuracy: 0.9070\n",
            "Epoch 11/100\n",
            "1719/1719 [==============================] - 9s 5ms/step - loss: 0.2108 - accuracy: 0.9225 - val_loss: 0.2603 - val_accuracy: 0.9040\n",
            "Epoch 12/100\n",
            "1719/1719 [==============================] - 8s 5ms/step - loss: 0.1979 - accuracy: 0.9268 - val_loss: 0.2467 - val_accuracy: 0.9064\n",
            "Epoch 13/100\n",
            "1719/1719 [==============================] - 9s 5ms/step - loss: 0.1882 - accuracy: 0.9308 - val_loss: 0.2386 - val_accuracy: 0.9128\n",
            "Epoch 14/100\n",
            "1719/1719 [==============================] - 9s 5ms/step - loss: 0.1785 - accuracy: 0.9334 - val_loss: 0.2665 - val_accuracy: 0.9044\n",
            "Epoch 15/100\n",
            "1719/1719 [==============================] - 9s 5ms/step - loss: 0.1680 - accuracy: 0.9376 - val_loss: 0.2349 - val_accuracy: 0.9186\n",
            "Epoch 16/100\n",
            "1719/1719 [==============================] - 9s 5ms/step - loss: 0.1583 - accuracy: 0.9415 - val_loss: 0.2599 - val_accuracy: 0.9040\n",
            "Epoch 17/100\n",
            "1719/1719 [==============================] - 8s 5ms/step - loss: 0.1501 - accuracy: 0.9442 - val_loss: 0.2391 - val_accuracy: 0.9144\n",
            "Epoch 18/100\n",
            "1719/1719 [==============================] - 9s 5ms/step - loss: 0.1401 - accuracy: 0.9484 - val_loss: 0.2473 - val_accuracy: 0.9144\n",
            "Epoch 19/100\n",
            "1719/1719 [==============================] - 9s 5ms/step - loss: 0.1320 - accuracy: 0.9499 - val_loss: 0.2486 - val_accuracy: 0.9140\n",
            "Epoch 20/100\n",
            "1719/1719 [==============================] - 8s 5ms/step - loss: 0.1242 - accuracy: 0.9532 - val_loss: 0.2504 - val_accuracy: 0.9174\n"
          ]
        }
      ],
      "source": [
        "logdir = './cnn-relu-callbacks'\n",
        "if not os.path.exists(logdir):\n",
        "    os.mkdir(logdir)\n",
        "output_model_file = os.path.join(logdir,\n",
        "                                 \"fashion_mnist_model.h5\")\n",
        "\n",
        "callbacks = [\n",
        "    keras.callbacks.TensorBoard(logdir),\n",
        "    keras.callbacks.ModelCheckpoint(output_model_file,\n",
        "                                    save_best_only = True),\n",
        "    keras.callbacks.EarlyStopping(patience=5, min_delta=1e-3),\n",
        "]\n",
        "history = model.fit(x_train_scaled, y_train, epochs=100,\n",
        "                    validation_data=(x_valid_scaled, y_valid),\n",
        "                    callbacks = callbacks)"
      ]
    },
    {
      "cell_type": "code",
      "execution_count": 13,
      "metadata": {
        "id": "XZRDQ7FMl76b"
      },
      "outputs": [],
      "source": [
        ""
      ]
    },
    {
      "cell_type": "code",
      "execution_count": 14,
      "metadata": {
        "colab": {
          "base_uri": "https://localhost:8080/",
          "height": 324
        },
        "id": "iuldwXcJl76c",
        "outputId": "8349e8a0-e771-45d3-9512-beca4fb0b4de"
      },
      "outputs": [
        {
          "output_type": "display_data",
          "data": {
            "text/plain": [
              "<Figure size 576x360 with 1 Axes>"
            ],
            "image/png": "[encoded data removed]"
          },
          "metadata": {
            "needs_background": "light"
          }
        }
      ],
      "source": [
        "def plot_learning_curves(history):\n",
        "    pd.DataFrame(history.history).plot(figsize=(8, 5))\n",
        "    plt.grid(True)\n",
        "    plt.gca().set_ylim(0, 1)\n",
        "    plt.show()\n",
        "\n",
        "plot_learning_curves(history)"
      ]
    },
    {
      "cell_type": "code",
      "execution_count": 15,
      "metadata": {
        "colab": {
          "base_uri": "https://localhost:8080/"
        },
        "id": "4srpxHzAl76c",
        "outputId": "a4449db0-f458-4040-d48b-d143a39c358e"
      },
      "outputs": [
        {
          "output_type": "execute_result",
          "data": {
            "text/plain": [
              "[0.2705853581428528, 0.9115999937057495]"
            ]
          },
          "metadata": {},
          "execution_count": 15
        }
      ],
      "source": [
        "model.evaluate(x_test_scaled, y_test, verbose = 0)"
      ]
    },
    {
      "cell_type": "code",
      "execution_count": 16,
      "metadata": {
        "id": "JYCJtAuwl76c"
      },
      "outputs": [],
      "source": [
        "#通过下面方法来确定某一层输出尺寸\n",
        "x = tf.constant([[1., 2., 3.],\n",
        "                 [4., 5., 6.],\n",
        "                 [7., 8., 9.]])\n",
        "x = tf.reshape(x, [1, 3, 3, 1])\n",
        "max_pool_2d = tf.keras.layers.MaxPooling2D(pool_size=(2, 2),\n",
        "   strides=(1, 1), padding='valid')"
      ]
    },
    {
      "cell_type": "code",
      "execution_count": 17,
      "metadata": {
        "colab": {
          "base_uri": "https://localhost:8080/"
        },
        "id": "jU31K_syl76d",
        "outputId": "52232d44-68e0-4e62-a16f-3cc63d332e2f"
      },
      "outputs": [
        {
          "output_type": "execute_result",
          "data": {
            "text/plain": [
              "<tf.Tensor: shape=(1, 3, 3, 1), dtype=float32, numpy=\n",
              "array([[[[1.],\n",
              "         [2.],\n",
              "         [3.]],\n",
              "\n",
              "        [[4.],\n",
              "         [5.],\n",
              "         [6.]],\n",
              "\n",
              "        [[7.],\n",
              "         [8.],\n",
              "         [9.]]]], dtype=float32)>"
            ]
          },
          "metadata": {},
          "execution_count": 17
        }
      ],
      "source": [
        "x"
      ]
    },
    {
      "cell_type": "code",
      "execution_count": 18,
      "metadata": {
        "colab": {
          "base_uri": "https://localhost:8080/"
        },
        "id": "XrPJcagel76e",
        "outputId": "e5746e80-2eff-4326-80f2-d3a30fdacc8a"
      },
      "outputs": [
        {
          "output_type": "execute_result",
          "data": {
            "text/plain": [
              "<tf.Tensor: shape=(1, 2, 2, 1), dtype=float32, numpy=\n",
              "array([[[[5.],\n",
              "         [6.]],\n",
              "\n",
              "        [[8.],\n",
              "         [9.]]]], dtype=float32)>"
            ]
          },
          "metadata": {},
          "execution_count": 18
        }
      ],
      "source": [
        "max_pool_2d(x)"
      ]
    },
    {
      "cell_type": "code",
      "execution_count": 19,
      "metadata": {
        "colab": {
          "base_uri": "https://localhost:8080/"
        },
        "id": "gxnawnB-l76e",
        "outputId": "477f405c-029f-4695-b150-f405030dbf69"
      },
      "outputs": [
        {
          "output_type": "execute_result",
          "data": {
            "text/plain": [
              "<tf.Tensor: shape=(1, 1), dtype=float32, numpy=array([[9.]], dtype=float32)>"
            ]
          },
          "metadata": {},
          "execution_count": 19
        }
      ],
      "source": [
        "gmp = tf.keras.layers.GlobalMaxPooling2D()\n",
        "gmp(x)"
      ]
    }
  ],
  "metadata": {
    "kernelspec": {
      "display_name": "Python 3",
      "language": "python",
      "name": "python3"
    },
    "language_info": {
      "codemirror_mode": {
        "name": "ipython",
        "version": 3
      },
      "file_extension": ".py",
      "mimetype": "text/x-python",
      "name": "python",
      "nbconvert_exporter": "python",
      "pygments_lexer": "ipython3",
      "version": "3.6.9"
    },
    "colab": {
      "name": "tf01_keras_classification_model-cnn.ipynb",
      "provenance": [],
      "collapsed_sections": [],
      "include_colab_link": true
    },
    "gpuClass": "standard",
    "accelerator": "GPU"
  },
  "nbformat": 4,
  "nbformat_minor": 0
}